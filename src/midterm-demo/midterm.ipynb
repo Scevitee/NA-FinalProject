{
 "cells": [
  {
   "cell_type": "markdown",
   "metadata": {},
   "source": [
    "This serves as a demonstration of the work we have been able to complete so far, with particular focus on the "
   ]
  }
 ],
 "metadata": {
  "language_info": {
   "name": "python"
  }
 },
 "nbformat": 4,
 "nbformat_minor": 2
}
