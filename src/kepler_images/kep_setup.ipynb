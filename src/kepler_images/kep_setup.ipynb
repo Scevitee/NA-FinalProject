{
 "cells": [
  {
   "cell_type": "code",
   "execution_count": 1,
   "metadata": {},
   "outputs": [
    {
     "name": "stderr",
     "output_type": "stream",
     "text": [
      "┌ Warning: attempting to remove probably stale pidfile\n",
      "│   path = /home/justin/.julia/compiled/v1.10/Plots/ld3vC_qXI0Q.ji.pidfile\n",
      "└ @ FileWatching.Pidfile /home/justin/.julia/juliaup/julia-1.10.2+0.x64.linux.gnu/share/julia/stdlib/v1.10/FileWatching/src/pidfile.jl:244\n",
      "\u001b[33m\u001b[1m┌ \u001b[22m\u001b[39m\u001b[33m\u001b[1mWarning: \u001b[22m\u001b[39mbackend `GR` is not installed.\n",
      "\u001b[33m\u001b[1m└ \u001b[22m\u001b[39m\u001b[90m@ Plots ~/.julia/packages/Plots/HyyIK/src/backends.jl:43\u001b[39m\n"
     ]
    }
   ],
   "source": [
    "include(\"../../datatools.jl\")\n",
    "using Plots, CSV, DataFrames"
   ]
  },
  {
   "cell_type": "code",
   "execution_count": 2,
   "metadata": {},
   "outputs": [
    {
     "data": {
      "text/plain": [
       "Dict{Any, Any} with 8 entries:\n",
       "  \"Newell/West\" => Any[\u001b[1m751×11 DataFrame\u001b[0m\u001b[0m…\n",
       "  \"Gale/West\"   => Any[\u001b[1m1011×11 DataFrame\u001b[0m\u001b[0m…\n",
       "  \"Gale/East\"   => Any[\u001b[1m1383×11 DataFrame\u001b[0m\u001b[0m…\n",
       "  \"Museum\"      => Any[\u001b[1m1404×11 DataFrame\u001b[0m\u001b[0m…\n",
       "  \"Center/West\" => Any[\u001b[1m938×11 DataFrame\u001b[0m\u001b[0m…\n",
       "  \"Newell/East\" => Any[\u001b[1m278×11 DataFrame\u001b[0m\u001b[0m…\n",
       "  \"Center/East\" => Any[\u001b[1m855×11 DataFrame\u001b[0m\u001b[0m…\n",
       "  \"Sweetwater\"  => Any[\u001b[1m790×11 DataFrame\u001b[0m\u001b[0m…"
      ]
     },
     "metadata": {},
     "output_type": "display_data"
    }
   ],
   "source": [
    "all_dfs = get_all_dataframes()"
   ]
  },
  {
   "cell_type": "code",
   "execution_count": 3,
   "metadata": {},
   "outputs": [
    {
     "data": {
      "text/plain": [
       "\"allData.csv\""
      ]
     },
     "metadata": {},
     "output_type": "display_data"
    }
   ],
   "source": [
    "single_df = stack_all_streets(all_dfs)\n",
    "\n",
    "CSV.write(\"allData.csv\", single_df)"
   ]
  },
  {
   "cell_type": "code",
   "execution_count": null,
   "metadata": {},
   "outputs": [],
   "source": []
  }
 ],
 "metadata": {
  "kernelspec": {
   "display_name": "Julia 1.10.2",
   "language": "julia",
   "name": "julia-1.10"
  },
  "language_info": {
   "file_extension": ".jl",
   "mimetype": "application/julia",
   "name": "julia",
   "version": "1.10.2"
  }
 },
 "nbformat": 4,
 "nbformat_minor": 2
}
