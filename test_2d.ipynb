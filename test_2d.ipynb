{
 "cells": [
  {
   "cell_type": "code",
   "execution_count": 39,
   "metadata": {},
   "outputs": [],
   "source": [
    "include(\"datatools.jl\")\n",
    "using  LinearAlgebra, Plots, CSV, DataFrames, Optim, DataStructures, Statistics"
   ]
  },
  {
   "cell_type": "code",
   "execution_count": 40,
   "metadata": {},
   "outputs": [
    {
     "data": {
      "text/plain": [
       "get_spaced_nodes2d (generic function with 2 methods)"
      ]
     },
     "metadata": {},
     "output_type": "display_data"
    }
   ],
   "source": [
    "function get_spaced_nodes2d(x, y, z, n=10; fluctuation::Int=0)\n",
    "     len = length(x)\n",
    "     indices = round.(Int, LinRange(1, len, n))\n",
    "\n",
    "\n",
    "     for i = 2:length(indices)-1\n",
    "        indices[i] += rand((-1 * fluctuation):fluctuation)\n",
    "     end\n",
    "    \n",
    "   #   @show indices\n",
    "\n",
    "    #  if !issorted(x)\n",
    "    #       sort!(x)\n",
    "    #  end\n",
    "           \n",
    "     xs = x[indices]\n",
    "     ys = y[indices]\n",
    "     zs = z[indices]\n",
    "\n",
    "     return xs, ys, zs\n",
    " end"
   ]
  },
  {
   "cell_type": "code",
   "execution_count": 41,
   "metadata": {},
   "outputs": [
    {
     "data": {
      "text/plain": [
       "fit_model_to_data (generic function with 1 method)"
      ]
     },
     "metadata": {},
     "output_type": "display_data"
    }
   ],
   "source": [
    "function fit_model_to_data(xs, ys, model_func, initial_params; n=100)\n",
    "     #scale the x-values\n",
    "     scaled_xs = @. (xs - 29.6) * 100\n",
    "     \n",
    "     # get training samples\n",
    "     train_xs, train_ys = get_spaced_nodes(scaled_xs, ys, n)\n",
    "\n",
    "\n",
    "     # setup cost/loss function\n",
    "     function loss(params)\n",
    "          predicted_y = model_func(train_xs, params...)\n",
    "          return sum((train_ys - predicted_y) .^ 2)\n",
    "     end\n",
    "\n",
    "     # optimize the loss function\n",
    "     opt_res = optimize(loss, initial_params)\n",
    "     opt_params = Optim.minimizer(opt_res)\n",
    "\n",
    "     # fit data\n",
    "     fitted_ys = model_func(scaled_xs, opt_params...)\n",
    "\n",
    "     # sort so points returned are in increasing latitudes (for plotting)\n",
    "     temp = DataFrame(x=xs, y = fitted_ys)\n",
    "     sort!(temp, :x)\n",
    "\n",
    "     return temp.x, temp.y\n",
    "end"
   ]
  },
  {
   "cell_type": "code",
   "execution_count": 42,
   "metadata": {},
   "outputs": [
    {
     "data": {
      "text/plain": [
       "fit_model_to_data2d (generic function with 1 method)"
      ]
     },
     "metadata": {},
     "output_type": "display_data"
    }
   ],
   "source": [
    "function fit_model_to_data2d(xs, ys, zs, model_func, initial_params; n=100, test_grid=100)\n",
    "     \n",
    "     # get training samples\n",
    "     train_xs, train_ys, train_zs = get_spaced_nodes2d(xs, ys, zs, n)\n",
    "\n",
    "     # setup cost/loss function\n",
    "     function loss(params)\n",
    "          predicted_z = model_func(train_xs, train_ys, params...)\n",
    "          return sum((train_zs - predicted_z) .^ 2)\n",
    "     end\n",
    "\n",
    "     # optimize the loss function\n",
    "     opt_res = optimize(loss, initial_params)\n",
    "     opt_params = Optim.minimizer(opt_res)\n",
    "\n",
    "\n",
    "     test_xs = []\n",
    "     test_ys = []\n",
    "     for i = range(minimum(xs), maximum(xs), test_grid)\n",
    "          for j = range(minimum(ys), maximum(ys), test_grid)\n",
    "               push!(test_xs, i)\n",
    "               push!(test_ys, j)\n",
    "          end\n",
    "     end\n",
    "\n",
    "     # fit data\n",
    "     fitted_zs = model_func(test_xs, test_ys, opt_params...)\n",
    "\n",
    "     # sort so points returned are in increasing latitudes (for plotting)\n",
    "     temp = DataFrame(latitude=test_xs, longitude = test_ys, altitude = fitted_zs)\n",
    "     sort!(temp, :latitude)\n",
    "\n",
    "     return temp\n",
    "     \n",
    "end"
   ]
  },
  {
   "cell_type": "code",
   "execution_count": 57,
   "metadata": {},
   "outputs": [
    {
     "data": {
      "text/plain": [
       "sinny (generic function with 4 methods)"
      ]
     },
     "metadata": {},
     "output_type": "display_data"
    }
   ],
   "source": [
    "function sinny(x, y, a, b, c, d, e)\n",
    "     return @. a*sin(b*x) + c*sin(d*y) + e*x\n",
    "end"
   ]
  },
  {
   "cell_type": "code",
   "execution_count": 67,
   "metadata": {},
   "outputs": [],
   "source": [
    "df = stack_all_streets(get_all_dataframes());\n",
    "dfsc = scale_coordinates(df);\n",
    "\n",
    "xs = dfsc.latitude;\n",
    "ys = dfsc.longitude;\n",
    "zs = dfsc.altitude;\n",
    "\n",
    "guess = [1.0, 1.0, 3.0, 1.0, 1.0]\n",
    "\n",
    "ft = fit_model_to_data2d(xs, ys, zs, sinny, guess; n=1000, test_grid=1000);\n",
    "\n",
    "og_ft = unscale_coordinates(ft);"
   ]
  },
  {
   "cell_type": "code",
   "execution_count": 68,
   "metadata": {},
   "outputs": [
    {
     "data": {
      "text/plain": [
       "\"2dtest.csv\""
      ]
     },
     "metadata": {},
     "output_type": "display_data"
    }
   ],
   "source": [
    "\n",
    "CSV.write(\"2dtest.csv\", og_ft)"
   ]
  },
  {
   "cell_type": "code",
   "execution_count": 46,
   "metadata": {},
   "outputs": [],
   "source": []
  },
  {
   "cell_type": "code",
   "execution_count": 47,
   "metadata": {},
   "outputs": [],
   "source": []
  }
 ],
 "metadata": {
  "kernelspec": {
   "display_name": "Julia 1.10.2",
   "language": "julia",
   "name": "julia-1.10"
  },
  "language_info": {
   "file_extension": ".jl",
   "mimetype": "application/julia",
   "name": "julia",
   "version": "1.10.2"
  }
 },
 "nbformat": 4,
 "nbformat_minor": 2
}
